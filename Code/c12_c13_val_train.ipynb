{
 "cells": [
  {
   "cell_type": "markdown",
   "id": "fa9e346f",
   "metadata": {},
   "source": [
    "# Neuron networks from scratch in Python\n",
    "References: http://103.203.175.90:81/fdScript/RootOfEBooks/E%20Book%20collection%20-%202024%20-%20G/CSE%20%20IT%20AIDS%20ML/Neural%20Network.pdf"
   ]
  },
  {
   "cell_type": "markdown",
   "id": "fd975832",
   "metadata": {},
   "source": [
    "## Chapter 12: Validation data"
   ]
  },
  {
   "cell_type": "markdown",
   "id": "efc85fc5",
   "metadata": {},
   "source": [
    "### Hyperparameter Tuning and Validation – Summary\n",
    "\n",
    "- **Do not use the test dataset for hyperparameter tuning**  \n",
    "  → It leads to overfitting and biases the model.\n",
    "\n",
    "- **Test dataset usage**  \n",
    "  → Only for final performance evaluation, never for model adjustment.\n",
    "\n",
    "- **Use a validation dataset for tuning**  \n",
    "  → A separate dataset created from the training data.  \n",
    "  → Helps find the best hyperparameters without touching the test data.\n",
    "\n",
    "- **If limited data is available**:\n",
    "  1. **Split training data temporarily**  \n",
    "     → Use part of training data for validation, then retrain using all training data.\n",
    "  2. **Use cross-validation**  \n",
    "     → Split training data into k parts.  \n",
    "     → Train on (k−1) parts, validate on the remaining.  \n",
    "     → Repeat k times, changing the validation part each time (k-fold cross-validation).\n",
    "\n",
    "- **Cross-validation benefits**  \n",
    "  → No training data is wasted.  \n",
    "  → More reliable validation.  \n",
    "  → Especially useful for small datasets.\n",
    "\n",
    "- **Hyperparameter search process**:\n",
    "  - Loop over different sets of parameters.\n",
    "  - Avoid checking all combinations unless training is fast.\n",
    "  - Try likely good settings first, refine iteratively.\n",
    "---"
   ]
  },
  {
   "cell_type": "markdown",
   "id": "d27772df",
   "metadata": {},
   "source": [
    "## Chapter 13: Training data"
   ]
  },
  {
   "cell_type": "markdown",
   "id": "8871ddd5",
   "metadata": {},
   "source": [
    "### Summary of Data Preprocessing for Neural Networks\n",
    "\n",
    "**Purpose of Preprocessing**\n",
    "- Neural networks perform better when input values are scaled to a small range, typically between -1 to 1 or 0 to 1.\n",
    "- Centering the data (around 0) helps reduce weight bias and improves training stability.\n",
    "- Prevents issues like floating-point overflow and helps control training dynamics.\n",
    "\n",
    "**Preprocessing Requirements**\n",
    "- The same preprocessing must be applied to:\n",
    "  - Training data  \n",
    "  - Validation data  \n",
    "  - Testing data  \n",
    "  - Prediction data  \n",
    "- Use the **same scaler** for all datasets to ensure consistency.\n",
    "\n",
    "**Example of Scaling**\n",
    "- For image data with values from 0 to 255:\n",
    "  - Divide by 255 → scales to range [0, 1]\n",
    "  - Subtract 127.5 and divide by 127.5 → scales to range [-1, 1]\n",
    "\n",
    "**Important Considerations**\n",
    "- Slightly out-of-range values (just above 1 or below -1) are usually not problematic.\n",
    "- Use only training data to determine scaling parameters to avoid data leakage.\n",
    "- Save the scaler and apply it during future predictions.\n",
    "\n",
    "**Data Augmentation**\n",
    "- Used when training data is limited.\n",
    "- Common methods: rotation, cropping, flipping (especially for images).\n",
    "- Augmentations should reflect real-world variations relevant to the task.\n",
    "- Inappropriate augmentation (e.g., rotating road signs for traffic models) can harm performance.\n"
   ]
  }
 ],
 "metadata": {
  "kernelspec": {
   "display_name": "Python (ds-ai-env)",
   "language": "python",
   "name": "ds-ai-env"
  },
  "language_info": {
   "codemirror_mode": {
    "name": "ipython",
    "version": 3
   },
   "file_extension": ".py",
   "mimetype": "text/x-python",
   "name": "python",
   "nbconvert_exporter": "python",
   "pygments_lexer": "ipython3",
   "version": "3.11.13"
  }
 },
 "nbformat": 4,
 "nbformat_minor": 5
}
