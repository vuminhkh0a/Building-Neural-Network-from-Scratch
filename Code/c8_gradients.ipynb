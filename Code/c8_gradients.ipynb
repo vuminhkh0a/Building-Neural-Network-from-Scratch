{
 "cells": [
  {
   "cell_type": "markdown",
   "id": "fa9e346f",
   "metadata": {},
   "source": [
    "# Neuron networks from scratch in Python\n",
    "References: http://103.203.175.90:81/fdScript/RootOfEBooks/E%20Book%20collection%20-%202024%20-%20G/CSE%20%20IT%20AIDS%20ML/Neural%20Network.pdf"
   ]
  },
  {
   "cell_type": "markdown",
   "id": "fd975832",
   "metadata": {},
   "source": [
    "## Chapter 8: Gradients, Partial Derivatives, and the Chain Rule"
   ]
  },
  {
   "cell_type": "markdown",
   "id": "9b83e686",
   "metadata": {},
   "source": [
    "### 1. Partial Derivatives\n",
    "In deep learning, a **partial derivative** measures how a function changes as *one* variable changes, keeping others constant. For a loss function  $L(x, y, z)$ , the partial derivative with respect to $x$ is:\n",
    "\n",
    "$ \\frac{\\partial L}{\\partial x} $\n",
    "\n",
    "This tells us how sensitive the loss is to changes in $x$.\n",
    "\n",
    "---\n",
    "\n",
    "### 2. Gradients\n",
    "A **gradient** is a vector that contains all partial derivatives of a function with respect to its inputs. For example:\n",
    "\n",
    "$ \\nabla L = \\left[ \\frac{\\partial L}{\\partial x}, \\frac{\\partial L}{\\partial y}, \\frac{\\partial L}{\\partial z} \\right] $\n",
    "\n",
    "In neural networks, gradients are used to update weights via **backpropagation**.\n",
    "\n",
    "---\n",
    "\n",
    "### 3. The Chain Rule\n",
    "The **chain rule** allows us to compute derivatives of composite functions. It's essential in backpropagation. If:\n",
    "\n",
    "$ z = f(y), \\quad y = g(x) $\n",
    "\n",
    "Then the derivative of \\( z \\) with respect to \\( x \\) is:\n",
    "\n",
    "$ \\frac{dz}{dx} = \\frac{dz}{dy} \\cdot \\frac{dy}{dx} $\n",
    "\n",
    "This is how gradients are propagated layer by layer in deep networks.\n",
    "\n",
    "---\n"
   ]
  }
 ],
 "metadata": {
  "kernelspec": {
   "display_name": "Python (ds-ai-env)",
   "language": "python",
   "name": "ds-ai-env"
  },
  "language_info": {
   "codemirror_mode": {
    "name": "ipython",
    "version": 3
   },
   "file_extension": ".py",
   "mimetype": "text/x-python",
   "name": "python",
   "nbconvert_exporter": "python",
   "pygments_lexer": "ipython3",
   "version": "3.11.13"
  }
 },
 "nbformat": 4,
 "nbformat_minor": 5
}
