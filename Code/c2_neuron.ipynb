{
 "cells": [
  {
   "cell_type": "markdown",
   "id": "fa9e346f",
   "metadata": {},
   "source": [
    "# Neuron networks from scratch in Python\n",
    "References: http://103.203.175.90:81/fdScript/RootOfEBooks/E%20Book%20collection%20-%202024%20-%20G/CSE%20%20IT%20AIDS%20ML/Neural%20Network.pdf"
   ]
  },
  {
   "cell_type": "code",
   "execution_count": 1,
   "id": "331017e5",
   "metadata": {},
   "outputs": [],
   "source": [
    "import numpy as np"
   ]
  },
  {
   "cell_type": "markdown",
   "id": "fd975832",
   "metadata": {},
   "source": [
    "## Chapter 2: Coding a neuron"
   ]
  },
  {
   "cell_type": "markdown",
   "id": "f8cd8a37",
   "metadata": {},
   "source": [
    "### 2.1 A single neuron"
   ]
  },
  {
   "cell_type": "code",
   "execution_count": 2,
   "id": "96418ad9",
   "metadata": {},
   "outputs": [
    {
     "name": "stdout",
     "output_type": "stream",
     "text": [
      "2.3\n"
     ]
    }
   ],
   "source": [
    "#Python\n",
    "inputs = [1, 2, 3]\n",
    "weights = [0.2, 0.8, -0.5]\n",
    "bias = 2\n",
    "\n",
    "def neuron(weights, inputs, bias):\n",
    "    output = 0\n",
    "    for w, x in zip(weights, inputs):\n",
    "        output += w * x\n",
    "    output += bias\n",
    "    return output\n",
    "\n",
    "print(neuron(weights, inputs, bias))"
   ]
  },
  {
   "cell_type": "code",
   "execution_count": 3,
   "id": "2056648f",
   "metadata": {},
   "outputs": [
    {
     "name": "stdout",
     "output_type": "stream",
     "text": [
      "2.3\n"
     ]
    }
   ],
   "source": [
    "#Numpy\n",
    "inputs = [1, 2, 3]\n",
    "weights = [0.2, 0.8, -0.5]\n",
    "bias = 2\n",
    "\n",
    "def neuron(weights, inputs, bias):\n",
    "    return np.dot(weights, inputs) + bias\n",
    "\n",
    "print(neuron(weights, inputs, bias))"
   ]
  },
  {
   "cell_type": "markdown",
   "id": "1b939a9f",
   "metadata": {},
   "source": [
    "### 2.2 A layer of neurons"
   ]
  },
  {
   "cell_type": "code",
   "execution_count": 4,
   "id": "b8dbde83",
   "metadata": {},
   "outputs": [
    {
     "name": "stdout",
     "output_type": "stream",
     "text": [
      "[4.8, 1.21, 2.385]\n"
     ]
    }
   ],
   "source": [
    "#Python\n",
    "inputs = [1, 2, 3, 2.5]\n",
    "weights1 = [0.2, 0.8, -0.5, 1]\n",
    "weights2 = [0.5, -0.91, 0.26, -0.5]\n",
    "weights3 = [-0.26, -0.27, 0.17, 0.87]\n",
    "bias1 = 2\n",
    "bias2 = 3\n",
    "bias3 = 0.5\n",
    "\n",
    "weights_layer = [weights1, weights2, weights3]\n",
    "bias_layer = [bias1, bias2, bias3]\n",
    "\n",
    "def layer(inputs, weights_layer, bias_layer):\n",
    "    output_layer = []\n",
    "    for weights_neuron, b_i in zip(weights_layer, bias_layer):\n",
    "        output_neuron = 0\n",
    "        for w_i, x in zip(weights_neuron, inputs):\n",
    "            output_neuron += w_i * x\n",
    "        output_neuron += b_i\n",
    "        output_layer.append(output_neuron)\n",
    "    return output_layer\n",
    "\n",
    "print(layer(inputs, weights_layer, bias_layer))"
   ]
  },
  {
   "cell_type": "code",
   "execution_count": 5,
   "id": "82600599",
   "metadata": {},
   "outputs": [
    {
     "name": "stdout",
     "output_type": "stream",
     "text": [
      "[4.8   1.21  2.385]\n"
     ]
    }
   ],
   "source": [
    "#Numpy\n",
    "inputs = [1.0, 2.0, 3.0, 2.5]\n",
    "weights = [[0.2, 0.8, -0.5, 1],\n",
    "            [0.5, -0.91, 0.26, -0.5],\n",
    "            [-0.26, -0.27, 0.17, 0.87]]\n",
    "biases = [2.0, 3.0, 0.5]\n",
    "\n",
    "def layer(weights, biases, inputs):\n",
    "    return np.dot(weights, inputs) + biases\n",
    "\n",
    "print(layer(weights, biases, inputs))"
   ]
  },
  {
   "cell_type": "markdown",
   "id": "0b1ca8e5",
   "metadata": {},
   "source": [
    "### 2.3 Tensors, Arrays and Vectors\n"
   ]
  },
  {
   "cell_type": "code",
   "execution_count": 6,
   "id": "9fa8f9d1",
   "metadata": {},
   "outputs": [],
   "source": [
    "l = [1,5,6,2]\n",
    "\n",
    "lol = [[1,5,6,2],\n",
    "        [3,2,1,3]]\n",
    "\n",
    "lolol = [[[1,5,6,2],\n",
    "        [3,2,1,3]],\n",
    "        [[5,2,1,2],\n",
    "        [6,4,8,4]],\n",
    "        [[2,8,5,3],\n",
    "        [1,1,9,4]]]"
   ]
  },
  {
   "cell_type": "markdown",
   "id": "873d9cdf",
   "metadata": {},
   "source": [
    "### 2.4 Dot Product and Vector Addition"
   ]
  },
  {
   "cell_type": "code",
   "execution_count": 7,
   "id": "b35d2fc3",
   "metadata": {},
   "outputs": [
    {
     "name": "stdout",
     "output_type": "stream",
     "text": [
      "20\n"
     ]
    }
   ],
   "source": [
    "a = [1,2,3]\n",
    "b = [2,3,4]\n",
    "\n",
    "def dot_product(a, b):\n",
    "    output = 0\n",
    "    for x, y in zip(a, b):\n",
    "        output += x * y\n",
    "    return output\n",
    "\n",
    "print(dot_product(a, b))"
   ]
  },
  {
   "cell_type": "markdown",
   "id": "f03db460",
   "metadata": {},
   "source": [
    "### 2.5 Batch of Data"
   ]
  },
  {
   "cell_type": "markdown",
   "id": "e8a01c5f",
   "metadata": {},
   "source": [
    "### 2.6 Matrix product"
   ]
  },
  {
   "cell_type": "code",
   "execution_count": 8,
   "id": "ae05e9c7",
   "metadata": {},
   "outputs": [
    {
     "name": "stdout",
     "output_type": "stream",
     "text": [
      "[[152, 158, 164, 170], [504, 526, 548, 570], [856, 894, 932, 970], [1208, 1262, 1316, 1370]]\n"
     ]
    }
   ],
   "source": [
    "a = [[0, 1, 2, 3],\n",
    "     [4, 5, 6, 7],\n",
    "     [8, 9, 10, 11],\n",
    "     [12, 13, 14, 15]]\n",
    "\n",
    "b = [[16, 17, 18, 19],\n",
    "     [20, 21, 22, 23],\n",
    "     [24, 25, 26, 27],\n",
    "     [28, 29, 30, 31]]\n",
    "\n",
    "def dot(a, b):\n",
    "    output = []\n",
    "    for i in range(len(a)):\n",
    "        row = []\n",
    "        for j in range(len(b[0])):\n",
    "            element = 0\n",
    "            for k in range(len(a[0])):\n",
    "                element += a[i][k] * b[k][j]\n",
    "            row.append(element)\n",
    "        output.append(row)\n",
    "    return output\n",
    "\n",
    "print(dot(a, b))\n"
   ]
  },
  {
   "cell_type": "code",
   "execution_count": 9,
   "id": "abd9cdb6",
   "metadata": {},
   "outputs": [
    {
     "name": "stdout",
     "output_type": "stream",
     "text": [
      "[[ 152  158  164  170]\n",
      " [ 504  526  548  570]\n",
      " [ 856  894  932  970]\n",
      " [1208 1262 1316 1370]]\n"
     ]
    }
   ],
   "source": [
    "a = np.arange(16).reshape(4, 4)\n",
    "b = np.arange(16, 32).reshape(4, 4)\n",
    "\n",
    "print(np.dot(a, b))"
   ]
  },
  {
   "cell_type": "markdown",
   "id": "a30f8d49",
   "metadata": {},
   "source": [
    "### 2.7 Transposition for the Matrix Product"
   ]
  },
  {
   "cell_type": "code",
   "execution_count": 10,
   "id": "0fd55225",
   "metadata": {},
   "outputs": [
    {
     "name": "stdout",
     "output_type": "stream",
     "text": [
      "[[0, 4, 8, 12], [1, 5, 9, 13], [2, 6, 10, 14], [3, 7, 11, 15]]\n"
     ]
    }
   ],
   "source": [
    "#Python\n",
    "a = [[0, 1, 2, 3],\n",
    "     [4, 5, 6, 7],\n",
    "     [8, 9, 10, 11],\n",
    "     [12, 13, 14, 15]]\n",
    "\n",
    "def transpose(a):\n",
    "    output = []\n",
    "    for i in range(len(a)):\n",
    "        row = []\n",
    "        for j in range(len(a[0])):\n",
    "            row.append(a[j][i])\n",
    "        output.append(row)\n",
    "    return output\n",
    "\n",
    "print(transpose(a))"
   ]
  },
  {
   "cell_type": "code",
   "execution_count": 11,
   "id": "9e10a43c",
   "metadata": {},
   "outputs": [
    {
     "data": {
      "text/plain": [
       "array([[ 0,  4,  8, 12],\n",
       "       [ 1,  5,  9, 13],\n",
       "       [ 2,  6, 10, 14],\n",
       "       [ 3,  7, 11, 15]])"
      ]
     },
     "execution_count": 11,
     "metadata": {},
     "output_type": "execute_result"
    }
   ],
   "source": [
    "#Numpy\n",
    "a = np.arange(16).reshape(4, 4)\n",
    "a.T"
   ]
  },
  {
   "cell_type": "code",
   "execution_count": 12,
   "id": "5dfbeeb2",
   "metadata": {},
   "outputs": [
    {
     "data": {
      "text/plain": [
       "array([[1, 2, 3]])"
      ]
     },
     "execution_count": 12,
     "metadata": {},
     "output_type": "execute_result"
    }
   ],
   "source": [
    "a = [1, 2, 3]\n",
    "a = np.array(a)\n",
    "a = np.expand_dims(a, axis=0)\n",
    "a"
   ]
  },
  {
   "cell_type": "code",
   "execution_count": 13,
   "id": "7091ab56",
   "metadata": {},
   "outputs": [
    {
     "data": {
      "text/plain": [
       "array([[20]])"
      ]
     },
     "execution_count": 13,
     "metadata": {},
     "output_type": "execute_result"
    }
   ],
   "source": [
    "a = [1, 2, 3]\n",
    "b = [2, 3, 4]\n",
    "a = np.array([a])\n",
    "b = np.array([b]).T\n",
    "np.dot(a, b)"
   ]
  },
  {
   "cell_type": "markdown",
   "id": "a64189cb",
   "metadata": {},
   "source": [
    "### 2.8 A Layer of Neurons & Batch of Data"
   ]
  },
  {
   "cell_type": "code",
   "execution_count": 14,
   "id": "e190d757",
   "metadata": {},
   "outputs": [
    {
     "name": "stdout",
     "output_type": "stream",
     "text": [
      "[[4.8, 1.21, 2.385], [8.9, -1.8099999999999996, 0.19999999999999996], [1.4100000000000001, 1.0509999999999997, 0.025999999999999912]]\n"
     ]
    }
   ],
   "source": [
    "#Python\n",
    "inputs = [[1.0, 2.0, 3.0, 2.5],\n",
    "          [2.0, 5.0, -1.0, 2.0],\n",
    "          [-1.5, 2.7, 3.3, -0.8]]\n",
    "weights = [[0.2, 0.8, -0.5, 1.0],\n",
    "        [0.5, -0.91, 0.26, -0.5],\n",
    "        [-0.26, -0.27, 0.17, 0.87]]\n",
    "biases = [2.0, 3.0, 0.5]\n",
    "\n",
    "def transpose(a):\n",
    "    output = []\n",
    "    for i in range(len(a[0])):\n",
    "        row = []\n",
    "        for j in range(len(a)):\n",
    "            row.append(a[j][i])\n",
    "        output.append(row)\n",
    "    return output\n",
    "\n",
    "def dot(a, b):\n",
    "    output = []\n",
    "    for i in range(len(a)):\n",
    "        row = []\n",
    "        for j in range(len(b[0])):\n",
    "            element = 0\n",
    "            for k in range(len(a[0])):\n",
    "                element += a[i][k] * b[k][j]\n",
    "            row.append(element)\n",
    "        output.append(row)\n",
    "    return output\n",
    "\n",
    "def add(a, b):\n",
    "    output = []\n",
    "    for i in range(len(a)):\n",
    "        row = []\n",
    "        for j in range(len(a[0])):\n",
    "            row.append(a[i][j] + b[j])\n",
    "        output.append(row)\n",
    "    return output\n",
    "\n",
    "a = add(dot(inputs, transpose(weights)), biases)\n",
    "print(a)"
   ]
  },
  {
   "cell_type": "code",
   "execution_count": 15,
   "id": "9551c383",
   "metadata": {},
   "outputs": [
    {
     "data": {
      "text/plain": [
       "array([[ 4.8  ,  1.21 ,  2.385],\n",
       "       [ 8.9  , -1.81 ,  0.2  ],\n",
       "       [ 1.41 ,  1.051,  0.026]])"
      ]
     },
     "execution_count": 15,
     "metadata": {},
     "output_type": "execute_result"
    }
   ],
   "source": [
    "#Numpy\n",
    "inputs = [[1.0, 2.0, 3.0, 2.5],\n",
    "          [2.0, 5.0, -1.0, 2.0],\n",
    "          [-1.5, 2.7, 3.3, -0.8]]\n",
    "weights = [[0.2, 0.8, -0.5, 1.0],\n",
    "        [0.5, -0.91, 0.26, -0.5],\n",
    "        [-0.26, -0.27, 0.17, 0.87]]\n",
    "biases = [2.0, 3.0, 0.5]\n",
    "\n",
    "output = np.dot(inputs, np.array(weights).T) + biases\n",
    "output"
   ]
  },
  {
   "cell_type": "code",
   "execution_count": null,
   "id": "5a558ccb",
   "metadata": {},
   "outputs": [],
   "source": []
  }
 ],
 "metadata": {
  "kernelspec": {
   "display_name": "Python (ds-ai-env)",
   "language": "python",
   "name": "ds-ai-env"
  },
  "language_info": {
   "codemirror_mode": {
    "name": "ipython",
    "version": 3
   },
   "file_extension": ".py",
   "mimetype": "text/x-python",
   "name": "python",
   "nbconvert_exporter": "python",
   "pygments_lexer": "ipython3",
   "version": "3.11.13"
  }
 },
 "nbformat": 4,
 "nbformat_minor": 5
}
